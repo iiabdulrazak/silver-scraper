{
  "nbformat": 4,
  "nbformat_minor": 0,
  "metadata": {
    "accelerator": "GPU",
    "colab": {
      "name": "silver-scraper.ipynb",
      "provenance": []
    },
    "kernelspec": {
      "name": "python3",
      "display_name": "Python 3",
      "language": "python"
    },
    "language_info": {
      "name": "python",
      "version": "3.7.10",
      "mimetype": "text/x-python",
      "codemirror_mode": {
        "name": "ipython",
        "version": 3
      },
      "pygments_lexer": "ipython3",
      "nbconvert_exporter": "python",
      "file_extension": ".py"
    }
  },
  "cells": [
    {
      "cell_type": "code",
      "metadata": {
        "trusted": true,
        "id": "C_cRktSCZMxi",
        "colab": {
          "base_uri": "https://localhost:8080/"
        },
        "outputId": "9dbb20dc-574f-4893-f65f-51bb83606923"
      },
      "source": [
        "#installing packages\n",
        "!pip3 install pandas beautifulsoup4 matplotlib"
      ],
      "execution_count": 1,
      "outputs": [
        {
          "output_type": "stream",
          "text": [
            "Requirement already satisfied: pandas in /usr/local/lib/python3.7/dist-packages (1.1.5)\n",
            "Requirement already satisfied: beautifulsoup4 in /usr/local/lib/python3.7/dist-packages (4.6.3)\n",
            "Requirement already satisfied: matplotlib in /usr/local/lib/python3.7/dist-packages (3.2.2)\n",
            "Requirement already satisfied: numpy>=1.15.4 in /usr/local/lib/python3.7/dist-packages (from pandas) (1.19.5)\n",
            "Requirement already satisfied: python-dateutil>=2.7.3 in /usr/local/lib/python3.7/dist-packages (from pandas) (2.8.1)\n",
            "Requirement already satisfied: pytz>=2017.2 in /usr/local/lib/python3.7/dist-packages (from pandas) (2018.9)\n",
            "Requirement already satisfied: pyparsing!=2.0.4,!=2.1.2,!=2.1.6,>=2.0.1 in /usr/local/lib/python3.7/dist-packages (from matplotlib) (2.4.7)\n",
            "Requirement already satisfied: kiwisolver>=1.0.1 in /usr/local/lib/python3.7/dist-packages (from matplotlib) (1.3.1)\n",
            "Requirement already satisfied: cycler>=0.10 in /usr/local/lib/python3.7/dist-packages (from matplotlib) (0.10.0)\n",
            "Requirement already satisfied: six>=1.5 in /usr/local/lib/python3.7/dist-packages (from python-dateutil>=2.7.3->pandas) (1.15.0)\n"
          ],
          "name": "stdout"
        }
      ]
    },
    {
      "cell_type": "code",
      "metadata": {
        "id": "bom_CwmXq_EM",
        "trusted": true
      },
      "source": [
        "#importing all needed packages!\n",
        "try:\n",
        "    from bs4 import BeautifulSoup as bf\n",
        "    import os\n",
        "    import glob\n",
        "    import pandas as pd\n",
        "    import requests as re\n",
        "    import matplotlib.pyplot as plt\n",
        "except Exception as e:\n",
        "    print(f'Error Importing Packages!? \\n\\n{e}')"
      ],
      "execution_count": 2,
      "outputs": []
    },
    {
      "cell_type": "code",
      "metadata": {
        "colab": {
          "base_uri": "https://localhost:8080/"
        },
        "id": "nGXJ_aIN0Mru",
        "trusted": true,
        "outputId": "375ccd06-9203-4ac9-f8bf-f127cdc267db"
      },
      "source": [
        "#starting with requesting the page, and getting response [200]\n",
        "#for asia region only: https://www.worldometers.info/coronavirus/#c-asia%22\n",
        "url = 'https://www.worldometers.info/coronavirus/#countries' \n",
        "req = re.get(url)\n",
        "#seeing the response code\n",
        "print(f'Response Code: {req}')"
      ],
      "execution_count": 3,
      "outputs": [
        {
          "output_type": "stream",
          "text": [
            "Response Code: <Response [200]>\n"
          ],
          "name": "stdout"
        }
      ]
    },
    {
      "cell_type": "code",
      "metadata": {
        "id": "68iQckMH2HXI",
        "trusted": true
      },
      "source": [
        "#now we gonna start by extracting all page data to start then EDA!\n",
        "soup = bf(req.content, 'html.parser')"
      ],
      "execution_count": 4,
      "outputs": []
    },
    {
      "cell_type": "code",
      "metadata": {
        "id": "Pbfi9r-847dS",
        "trusted": true
      },
      "source": [
        "#now we gonna extract only the table its the important thing!\n",
        "res = soup.find(id=\"main_table_countries_today\")"
      ],
      "execution_count": 5,
      "outputs": []
    },
    {
      "cell_type": "code",
      "metadata": {
        "id": "eH1WhIFN6FKj",
        "trusted": true
      },
      "source": [
        "#let us now extract the columns by just getting data between <td>!\n",
        "content = res.find_all('td')"
      ],
      "execution_count": 6,
      "outputs": []
    },
    {
      "cell_type": "code",
      "metadata": {
        "id": "C8dri5GHFXj6",
        "trusted": true
      },
      "source": [
        "#now the fun part starts!\n",
        "#we gonna inset all needed data into a list[] to start then playing with it!\n",
        "data = []\n",
        "for item in content:\n",
        "  data.append(item.text.strip())"
      ],
      "execution_count": 7,
      "outputs": []
    },
    {
      "cell_type": "code",
      "metadata": {
        "id": "xM0lMb4x6Yw5",
        "trusted": true
      },
      "source": [
        "#making interval when new row in table starts\n",
        "interval = data.index(\"USA\") - data.index(\"World\")\n",
        "#Populate lists for dictionary\n",
        "countries    = data[1::interval]\n",
        "new_cases    = data[3::interval]\n",
        "new_deaths   = data[5::interval]\n",
        "total_cases  = data[2::interval]\n",
        "total_deaths = data[4::interval]\n",
        "total_recover= data[5::interval]"
      ],
      "execution_count": 8,
      "outputs": []
    },
    {
      "cell_type": "code",
      "metadata": {
        "id": "WAe6rkEt64Bs",
        "trusted": true
      },
      "source": [
        "#now we adding lists to covid_table dictionary\n",
        "#and we are ready to start manipulating and wrangling data!\n",
        "covid_tab = {\"country/region\":countries, \"new_cases\":new_cases, \"new_deaths\":new_deaths,\n",
        "             \"total_cases\":total_cases, \"total_deaths\":total_deaths, \"total_recovery\":total_recover}"
      ],
      "execution_count": 9,
      "outputs": []
    },
    {
      "cell_type": "code",
      "metadata": {
        "id": "l_KqlvrR8Frc",
        "trusted": true
      },
      "source": [
        "#let us now convert the dict to a pandas dataframe,\n",
        "#then converting the dataframe into csv file!\n",
        "cov_data = pd.DataFrame.from_dict(covid_tab, orient='index')\n",
        "cov_data = cov_data.transpose()"
      ],
      "execution_count": 10,
      "outputs": []
    },
    {
      "cell_type": "code",
      "metadata": {
        "colab": {
          "base_uri": "https://localhost:8080/",
          "height": 204
        },
        "id": "1_U6CKlYKZwc",
        "trusted": true,
        "outputId": "77989ccc-2dbf-4837-f447-a72bc7d3e811"
      },
      "source": [
        "#now let us see the data\n",
        "cov_data.head()"
      ],
      "execution_count": 11,
      "outputs": [
        {
          "output_type": "execute_result",
          "data": {
            "text/html": [
              "<div>\n",
              "<style scoped>\n",
              "    .dataframe tbody tr th:only-of-type {\n",
              "        vertical-align: middle;\n",
              "    }\n",
              "\n",
              "    .dataframe tbody tr th {\n",
              "        vertical-align: top;\n",
              "    }\n",
              "\n",
              "    .dataframe thead th {\n",
              "        text-align: right;\n",
              "    }\n",
              "</style>\n",
              "<table border=\"1\" class=\"dataframe\">\n",
              "  <thead>\n",
              "    <tr style=\"text-align: right;\">\n",
              "      <th></th>\n",
              "      <th>country/region</th>\n",
              "      <th>new_cases</th>\n",
              "      <th>new_deaths</th>\n",
              "      <th>total_cases</th>\n",
              "      <th>total_deaths</th>\n",
              "      <th>total_recovery</th>\n",
              "    </tr>\n",
              "  </thead>\n",
              "  <tbody>\n",
              "    <tr>\n",
              "      <th>0</th>\n",
              "      <td>North America</td>\n",
              "      <td>+6,797</td>\n",
              "      <td>+833</td>\n",
              "      <td>35,241,242</td>\n",
              "      <td>806,681</td>\n",
              "      <td>+833</td>\n",
              "    </tr>\n",
              "    <tr>\n",
              "      <th>1</th>\n",
              "      <td>South America</td>\n",
              "      <td>+879</td>\n",
              "      <td>+19</td>\n",
              "      <td>20,221,563</td>\n",
              "      <td>524,033</td>\n",
              "      <td>+19</td>\n",
              "    </tr>\n",
              "    <tr>\n",
              "      <th>2</th>\n",
              "      <td>Asia</td>\n",
              "      <td>+35,120</td>\n",
              "      <td>+372</td>\n",
              "      <td>27,257,357</td>\n",
              "      <td>418,933</td>\n",
              "      <td>+372</td>\n",
              "    </tr>\n",
              "    <tr>\n",
              "      <th>3</th>\n",
              "      <td>Europe</td>\n",
              "      <td>+93,604</td>\n",
              "      <td>+1,994</td>\n",
              "      <td>37,994,286</td>\n",
              "      <td>887,204</td>\n",
              "      <td>+1,994</td>\n",
              "    </tr>\n",
              "    <tr>\n",
              "      <th>4</th>\n",
              "      <td>Africa</td>\n",
              "      <td>+1,226</td>\n",
              "      <td>+21</td>\n",
              "      <td>4,159,201</td>\n",
              "      <td>110,766</td>\n",
              "      <td>+21</td>\n",
              "    </tr>\n",
              "  </tbody>\n",
              "</table>\n",
              "</div>"
            ],
            "text/plain": [
              "  country/region new_cases new_deaths total_cases total_deaths total_recovery\n",
              "0  North America    +6,797       +833  35,241,242      806,681           +833\n",
              "1  South America      +879        +19  20,221,563      524,033            +19\n",
              "2           Asia   +35,120       +372  27,257,357      418,933           +372\n",
              "3         Europe   +93,604     +1,994  37,994,286      887,204         +1,994\n",
              "4         Africa    +1,226        +21   4,159,201      110,766            +21"
            ]
          },
          "metadata": {
            "tags": []
          },
          "execution_count": 11
        }
      ]
    },
    {
      "cell_type": "code",
      "metadata": {
        "id": "mj7CE4DvZVKr",
        "colab": {
          "base_uri": "https://localhost:8080/",
          "height": 143
        },
        "outputId": "ce74f0c8-a132-4939-912f-db310dec228e"
      },
      "source": [
        "#splitting needed countries into two variables,\n",
        "#and then we converting it into .csv file!\n",
        "ksaData = cov_data.iloc[49:50]\n",
        "joData  = cov_data.iloc[43:44]\n",
        "#displaying both countries at once!\n",
        "display(ksaData)\n",
        "display(joData)"
      ],
      "execution_count": 12,
      "outputs": [
        {
          "output_type": "display_data",
          "data": {
            "text/html": [
              "<div>\n",
              "<style scoped>\n",
              "    .dataframe tbody tr th:only-of-type {\n",
              "        vertical-align: middle;\n",
              "    }\n",
              "\n",
              "    .dataframe tbody tr th {\n",
              "        vertical-align: top;\n",
              "    }\n",
              "\n",
              "    .dataframe thead th {\n",
              "        text-align: right;\n",
              "    }\n",
              "</style>\n",
              "<table border=\"1\" class=\"dataframe\">\n",
              "  <thead>\n",
              "    <tr style=\"text-align: right;\">\n",
              "      <th></th>\n",
              "      <th>country/region</th>\n",
              "      <th>new_cases</th>\n",
              "      <th>new_deaths</th>\n",
              "      <th>total_cases</th>\n",
              "      <th>total_deaths</th>\n",
              "      <th>total_recovery</th>\n",
              "    </tr>\n",
              "  </thead>\n",
              "  <tbody>\n",
              "    <tr>\n",
              "      <th>49</th>\n",
              "      <td>Saudi Arabia</td>\n",
              "      <td></td>\n",
              "      <td></td>\n",
              "      <td>385,834</td>\n",
              "      <td>6,618</td>\n",
              "      <td></td>\n",
              "    </tr>\n",
              "  </tbody>\n",
              "</table>\n",
              "</div>"
            ],
            "text/plain": [
              "   country/region new_cases new_deaths total_cases total_deaths total_recovery\n",
              "49   Saudi Arabia                          385,834        6,618               "
            ]
          },
          "metadata": {
            "tags": []
          }
        },
        {
          "output_type": "display_data",
          "data": {
            "text/html": [
              "<div>\n",
              "<style scoped>\n",
              "    .dataframe tbody tr th:only-of-type {\n",
              "        vertical-align: middle;\n",
              "    }\n",
              "\n",
              "    .dataframe tbody tr th {\n",
              "        vertical-align: top;\n",
              "    }\n",
              "\n",
              "    .dataframe thead th {\n",
              "        text-align: right;\n",
              "    }\n",
              "</style>\n",
              "<table border=\"1\" class=\"dataframe\">\n",
              "  <thead>\n",
              "    <tr style=\"text-align: right;\">\n",
              "      <th></th>\n",
              "      <th>country/region</th>\n",
              "      <th>new_cases</th>\n",
              "      <th>new_deaths</th>\n",
              "      <th>total_cases</th>\n",
              "      <th>total_deaths</th>\n",
              "      <th>total_recovery</th>\n",
              "    </tr>\n",
              "  </thead>\n",
              "  <tbody>\n",
              "    <tr>\n",
              "      <th>43</th>\n",
              "      <td>Jordan</td>\n",
              "      <td></td>\n",
              "      <td></td>\n",
              "      <td>553,727</td>\n",
              "      <td>6,077</td>\n",
              "      <td></td>\n",
              "    </tr>\n",
              "  </tbody>\n",
              "</table>\n",
              "</div>"
            ],
            "text/plain": [
              "   country/region new_cases new_deaths total_cases total_deaths total_recovery\n",
              "43         Jordan                          553,727        6,077               "
            ]
          },
          "metadata": {
            "tags": []
          }
        }
      ]
    },
    {
      "cell_type": "code",
      "metadata": {
        "id": "q30KX9omSO1p",
        "trusted": true
      },
      "source": [
        "#saving to .csv files\n",
        "# cov_data.to_csv('./data/day5.csv', index = False, header=True)\n",
        "# ksaData.to_csv('./data/ksa5.csv', index = True, header=False)\n",
        "joData.to_csv('./data/jordan5.csv', index = True, header=False)"
      ],
      "execution_count": 13,
      "outputs": []
    },
    {
      "cell_type": "code",
      "metadata": {
        "id": "r9OKR9MYVO1j",
        "trusted": true,
        "outputId": "c23da5fd-5462-4776-f015-df971828110b",
        "colab": {
          "base_uri": "https://localhost:8080/",
          "height": 316
        }
      },
      "source": [
        "os.chdir(\"./data/\")\n",
        "fileList = glob.glob(\"*.csv\")\n",
        "dataList = []\n",
        "genCol = [\"country/region\", \"new_cases\", \"new_deaths\", \"total_cases\", \"total_deaths\",\n",
        "          \"total_recovery\", \"id\"]\n",
        "\n",
        "for filename in fileList:\n",
        "  print(filename)\n",
        "  genData = pd.read_csv(filename, header=None, delim_whitespace=True)\n",
        "  dataList.append(genData)\n",
        "  \n",
        "concData = pd.concat(dataList, axis=0)\n",
        "concData.columns=genCol\n",
        "concData.to_csv(\"./data/gen.csv\", index=None)"
      ],
      "execution_count": 18,
      "outputs": [
        {
          "output_type": "error",
          "ename": "TypeError",
          "evalue": "ignored",
          "traceback": [
            "\u001b[0;31m---------------------------------------------------------------------------\u001b[0m",
            "\u001b[0;31mTypeError\u001b[0m                                 Traceback (most recent call last)",
            "\u001b[0;32m<ipython-input-18-b355b0f490a3>\u001b[0m in \u001b[0;36m<module>\u001b[0;34m()\u001b[0m\n\u001b[1;32m     15\u001b[0m \u001b[0mgen\u001b[0m \u001b[0;34m=\u001b[0m \u001b[0mpd\u001b[0m\u001b[0;34m.\u001b[0m\u001b[0mread_csv\u001b[0m\u001b[0;34m(\u001b[0m\u001b[0;34m'data/jordan1.csv'\u001b[0m\u001b[0;34m)\u001b[0m\u001b[0;34m\u001b[0m\u001b[0;34m\u001b[0m\u001b[0m\n\u001b[1;32m     16\u001b[0m \u001b[0;32mfor\u001b[0m \u001b[0mcolumn\u001b[0m \u001b[0;32min\u001b[0m \u001b[0mgen\u001b[0m\u001b[0;34m.\u001b[0m\u001b[0mcolumns\u001b[0m\u001b[0;34m:\u001b[0m\u001b[0;34m\u001b[0m\u001b[0;34m\u001b[0m\u001b[0m\n\u001b[0;32m---> 17\u001b[0;31m   \u001b[0mgen\u001b[0m\u001b[0;34m[\u001b[0m\u001b[0mcolumn\u001b[0m\u001b[0;34m]\u001b[0m \u001b[0;34m=\u001b[0m \u001b[0mgen\u001b[0m\u001b[0;34m[\u001b[0m\u001b[0mcolumn\u001b[0m\u001b[0;34m]\u001b[0m\u001b[0;34m.\u001b[0m\u001b[0mstr\u001b[0m\u001b[0;34m.\u001b[0m\u001b[0mreplace\u001b[0m\u001b[0;34m(\u001b[0m\u001b[0;34mr'\\W'\u001b[0m\u001b[0;34m,\u001b[0m\u001b[0;34m\"\"\u001b[0m\u001b[0;34m,\u001b[0m\u001b[0minplace\u001b[0m\u001b[0;34m=\u001b[0m\u001b[0;32mTrue\u001b[0m\u001b[0;34m)\u001b[0m\u001b[0;34m\u001b[0m\u001b[0;34m\u001b[0m\u001b[0m\n\u001b[0m",
            "\u001b[0;32m/usr/local/lib/python3.7/dist-packages/pandas/core/strings.py\u001b[0m in \u001b[0;36mwrapper\u001b[0;34m(self, *args, **kwargs)\u001b[0m\n\u001b[1;32m   1999\u001b[0m                 )\n\u001b[1;32m   2000\u001b[0m                 \u001b[0;32mraise\u001b[0m \u001b[0mTypeError\u001b[0m\u001b[0;34m(\u001b[0m\u001b[0mmsg\u001b[0m\u001b[0;34m)\u001b[0m\u001b[0;34m\u001b[0m\u001b[0;34m\u001b[0m\u001b[0m\n\u001b[0;32m-> 2001\u001b[0;31m             \u001b[0;32mreturn\u001b[0m \u001b[0mfunc\u001b[0m\u001b[0;34m(\u001b[0m\u001b[0mself\u001b[0m\u001b[0;34m,\u001b[0m \u001b[0;34m*\u001b[0m\u001b[0margs\u001b[0m\u001b[0;34m,\u001b[0m \u001b[0;34m**\u001b[0m\u001b[0mkwargs\u001b[0m\u001b[0;34m)\u001b[0m\u001b[0;34m\u001b[0m\u001b[0;34m\u001b[0m\u001b[0m\n\u001b[0m\u001b[1;32m   2002\u001b[0m \u001b[0;34m\u001b[0m\u001b[0m\n\u001b[1;32m   2003\u001b[0m         \u001b[0mwrapper\u001b[0m\u001b[0;34m.\u001b[0m\u001b[0m__name__\u001b[0m \u001b[0;34m=\u001b[0m \u001b[0mfunc_name\u001b[0m\u001b[0;34m\u001b[0m\u001b[0;34m\u001b[0m\u001b[0m\n",
            "\u001b[0;31mTypeError\u001b[0m: replace() got an unexpected keyword argument 'inplace'"
          ]
        }
      ]
    },
    {
      "cell_type": "code",
      "metadata": {
        "id": "IXqXnNfS-R96"
      },
      "source": [
        ""
      ],
      "execution_count": null,
      "outputs": []
    }
  ]
}