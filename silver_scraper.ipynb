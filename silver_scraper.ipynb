{
  "nbformat": 4,
  "nbformat_minor": 0,
  "metadata": {
    "colab": {
      "name": "silver-scraper.ipynb",
      "provenance": [],
      "authorship_tag": "ABX9TyPGLjQku80Qj62+vnioBi0O"
    },
    "kernelspec": {
      "name": "python3",
      "display_name": "Python 3"
    },
    "language_info": {
      "name": "python"
    },
    "accelerator": "GPU"
  },
  "cells": [
    {
      "cell_type": "code",
      "metadata": {
        "id": "bom_CwmXq_EM"
      },
      "source": [
        "try:\n",
        "  from bs4 import BeautifulSoup as bf\n",
        "  import requests as re\n",
        "\n",
        "except Exception as e:\n",
        "  print(f'Error Importing Packages!? \\n\\n{e}')"
      ],
      "execution_count": 1,
      "outputs": []
    },
    {
      "cell_type": "code",
      "metadata": {
        "colab": {
          "base_uri": "https://localhost:8080/"
        },
        "id": "nGXJ_aIN0Mru",
        "outputId": "ecb76e83-4964-45c3-9ef3-27727433e3b1"
      },
      "source": [
        "url = 'https://www.worldometers.info/coronavirus/#countries'\n",
        "page = re.get(url)\n",
        "print(f'Response Code: {page}')"
      ],
      "execution_count": 3,
      "outputs": [
        {
          "output_type": "stream",
          "text": [
            "Response Code: <Response [200]>\n"
          ],
          "name": "stdout"
        }
      ]
    },
    {
      "cell_type": "code",
      "metadata": {
        "id": "68iQckMH2HXI"
      },
      "source": [
        ""
      ],
      "execution_count": null,
      "outputs": []
    }
  ]
}