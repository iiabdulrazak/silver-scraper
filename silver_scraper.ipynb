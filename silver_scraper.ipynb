{
  "nbformat": 4,
  "nbformat_minor": 0,
  "metadata": {
    "accelerator": "GPU",
    "colab": {
      "name": "silver-scraper.ipynb",
      "provenance": []
    },
    "kernelspec": {
      "name": "python3",
      "display_name": "Python 3",
      "language": "python"
    },
    "language_info": {
      "name": "python",
      "version": "3.7.10",
      "mimetype": "text/x-python",
      "codemirror_mode": {
        "name": "ipython",
        "version": 3
      },
      "pygments_lexer": "ipython3",
      "nbconvert_exporter": "python",
      "file_extension": ".py"
    }
  },
  "cells": [
    {
      "cell_type": "code",
      "metadata": {
        "trusted": true,
        "id": "C_cRktSCZMxi",
        "outputId": "0860cf9f-5ed0-4619-b700-e0bc69b342fc",
        "colab": {
          "base_uri": "https://localhost:8080/"
        }
      },
      "source": [
        "#installing packages\n",
        "!pip3 install pandas beautifulsoup4 matplotlib"
      ],
      "execution_count": 1,
      "outputs": [
        {
          "output_type": "stream",
          "text": [
            "Requirement already satisfied: pandas in /usr/local/lib/python3.7/dist-packages (1.1.5)\n",
            "Requirement already satisfied: beautifulsoup4 in /usr/local/lib/python3.7/dist-packages (4.6.3)\n",
            "Requirement already satisfied: matplotlib in /usr/local/lib/python3.7/dist-packages (3.2.2)\n",
            "Requirement already satisfied: python-dateutil>=2.7.3 in /usr/local/lib/python3.7/dist-packages (from pandas) (2.8.1)\n",
            "Requirement already satisfied: numpy>=1.15.4 in /usr/local/lib/python3.7/dist-packages (from pandas) (1.19.5)\n",
            "Requirement already satisfied: pytz>=2017.2 in /usr/local/lib/python3.7/dist-packages (from pandas) (2018.9)\n",
            "Requirement already satisfied: kiwisolver>=1.0.1 in /usr/local/lib/python3.7/dist-packages (from matplotlib) (1.3.1)\n",
            "Requirement already satisfied: cycler>=0.10 in /usr/local/lib/python3.7/dist-packages (from matplotlib) (0.10.0)\n",
            "Requirement already satisfied: pyparsing!=2.0.4,!=2.1.2,!=2.1.6,>=2.0.1 in /usr/local/lib/python3.7/dist-packages (from matplotlib) (2.4.7)\n",
            "Requirement already satisfied: six>=1.5 in /usr/local/lib/python3.7/dist-packages (from python-dateutil>=2.7.3->pandas) (1.15.0)\n"
          ],
          "name": "stdout"
        }
      ]
    },
    {
      "cell_type": "code",
      "metadata": {
        "id": "bom_CwmXq_EM",
        "trusted": true
      },
      "source": [
        "#importing all needed packages!\n",
        "try:\n",
        "    from bs4 import BeautifulSoup as bf\n",
        "    import pandas as pd\n",
        "    import requests as re\n",
        "    import matplotlib.pyplot as plt\n",
        "except Exception as e:\n",
        "    print(f'Error Importing Packages!? \\n\\n{e}')"
      ],
      "execution_count": 2,
      "outputs": []
    },
    {
      "cell_type": "code",
      "metadata": {
        "colab": {
          "base_uri": "https://localhost:8080/"
        },
        "id": "nGXJ_aIN0Mru",
        "trusted": true,
        "outputId": "a4bd08d0-45c7-41c3-de74-a7280aa3aef0"
      },
      "source": [
        "#starting with requesting the page, and getting response [200]\n",
        "#for asia region only: https://www.worldometers.info/coronavirus/#c-asia%22\n",
        "url = 'https://www.worldometers.info/coronavirus/#countries' \n",
        "req = re.get(url)\n",
        "#seeing the response code\n",
        "print(f'Response Code: {req}')"
      ],
      "execution_count": 3,
      "outputs": [
        {
          "output_type": "stream",
          "text": [
            "Response Code: <Response [200]>\n"
          ],
          "name": "stdout"
        }
      ]
    },
    {
      "cell_type": "code",
      "metadata": {
        "id": "68iQckMH2HXI",
        "trusted": true
      },
      "source": [
        "#now we gonna start by extracting all page data to start then EDA!\n",
        "soup = bf(req.content, 'html.parser')"
      ],
      "execution_count": 4,
      "outputs": []
    },
    {
      "cell_type": "code",
      "metadata": {
        "id": "Pbfi9r-847dS",
        "trusted": true
      },
      "source": [
        "#now we gonna extract only the table its the important thing!\n",
        "res = soup.find(id=\"main_table_countries_today\")"
      ],
      "execution_count": 5,
      "outputs": []
    },
    {
      "cell_type": "code",
      "metadata": {
        "id": "eH1WhIFN6FKj",
        "trusted": true
      },
      "source": [
        "#let us now extract the columns by just getting data between <td>!\n",
        "content = res.find_all('td')"
      ],
      "execution_count": 6,
      "outputs": []
    },
    {
      "cell_type": "code",
      "metadata": {
        "id": "C8dri5GHFXj6",
        "trusted": true
      },
      "source": [
        "#now the fun part starts!\n",
        "#we gonna inset all needed data into a list[] to start then playing with it!\n",
        "data = []\n",
        "for item in content:\n",
        "  data.append(item.text.strip())"
      ],
      "execution_count": 7,
      "outputs": []
    },
    {
      "cell_type": "code",
      "metadata": {
        "id": "xM0lMb4x6Yw5",
        "trusted": true
      },
      "source": [
        "#making interval when new row in table starts\n",
        "interval = data.index(\"USA\") - data.index(\"World\")\n",
        "#Populate lists for dictionary\n",
        "countries    = data[1::interval]\n",
        "new_cases    = data[3::interval]\n",
        "new_deaths   = data[5::interval]\n",
        "total_cases  = data[2::interval]\n",
        "total_deaths = data[4::interval]\n",
        "total_recover= data[5::interval]"
      ],
      "execution_count": 8,
      "outputs": []
    },
    {
      "cell_type": "code",
      "metadata": {
        "id": "WAe6rkEt64Bs",
        "trusted": true
      },
      "source": [
        "#now we adding lists to covid_table dictionary\n",
        "#and we are ready to start manipulating and wrangling data!\n",
        "covid_tab = {\"country/region\":countries, \"new_cases\":new_cases, \"new_deaths\":new_deaths,\n",
        "             \"total_cases\":total_cases, \"total_deaths\":total_deaths, \"total_recovery\":total_recover}"
      ],
      "execution_count": 9,
      "outputs": []
    },
    {
      "cell_type": "code",
      "metadata": {
        "id": "l_KqlvrR8Frc",
        "trusted": true
      },
      "source": [
        "#let us now convert the dict to a pandas dataframe,\n",
        "#then converting the dataframe into csv file!\n",
        "cov_data = pd.DataFrame.from_dict(covid_tab, orient='index')\n",
        "cov_data = cov_data.transpose()"
      ],
      "execution_count": 10,
      "outputs": []
    },
    {
      "cell_type": "code",
      "metadata": {
        "colab": {
          "base_uri": "https://localhost:8080/",
          "height": 204
        },
        "id": "1_U6CKlYKZwc",
        "trusted": true,
        "outputId": "6ff4a564-3648-457d-dd3d-225db95db933"
      },
      "source": [
        "#now let us see the data\n",
        "cov_data.head()"
      ],
      "execution_count": 11,
      "outputs": [
        {
          "output_type": "execute_result",
          "data": {
            "text/html": [
              "<div>\n",
              "<style scoped>\n",
              "    .dataframe tbody tr th:only-of-type {\n",
              "        vertical-align: middle;\n",
              "    }\n",
              "\n",
              "    .dataframe tbody tr th {\n",
              "        vertical-align: top;\n",
              "    }\n",
              "\n",
              "    .dataframe thead th {\n",
              "        text-align: right;\n",
              "    }\n",
              "</style>\n",
              "<table border=\"1\" class=\"dataframe\">\n",
              "  <thead>\n",
              "    <tr style=\"text-align: right;\">\n",
              "      <th></th>\n",
              "      <th>country/region</th>\n",
              "      <th>new_cases</th>\n",
              "      <th>new_deaths</th>\n",
              "      <th>total_cases</th>\n",
              "      <th>total_deaths</th>\n",
              "      <th>total_recovery</th>\n",
              "    </tr>\n",
              "  </thead>\n",
              "  <tbody>\n",
              "    <tr>\n",
              "      <th>0</th>\n",
              "      <td>North America</td>\n",
              "      <td>+22,557</td>\n",
              "      <td>+508</td>\n",
              "      <td>35,186,056</td>\n",
              "      <td>805,102</td>\n",
              "      <td>+508</td>\n",
              "    </tr>\n",
              "    <tr>\n",
              "      <th>1</th>\n",
              "      <td>South America</td>\n",
              "      <td>+6,156</td>\n",
              "      <td>+65</td>\n",
              "      <td>20,108,383</td>\n",
              "      <td>520,367</td>\n",
              "      <td>+65</td>\n",
              "    </tr>\n",
              "    <tr>\n",
              "      <th>2</th>\n",
              "      <td>Asia</td>\n",
              "      <td>+131,594</td>\n",
              "      <td>+1,072</td>\n",
              "      <td>27,220,157</td>\n",
              "      <td>418,541</td>\n",
              "      <td>+1,072</td>\n",
              "    </tr>\n",
              "    <tr>\n",
              "      <th>3</th>\n",
              "      <td>Europe</td>\n",
              "      <td>+141,057</td>\n",
              "      <td>+3,495</td>\n",
              "      <td>37,886,614</td>\n",
              "      <td>884,770</td>\n",
              "      <td>+3,495</td>\n",
              "    </tr>\n",
              "    <tr>\n",
              "      <th>4</th>\n",
              "      <td>Africa</td>\n",
              "      <td>+4,220</td>\n",
              "      <td>+122</td>\n",
              "      <td>4,152,243</td>\n",
              "      <td>110,527</td>\n",
              "      <td>+122</td>\n",
              "    </tr>\n",
              "  </tbody>\n",
              "</table>\n",
              "</div>"
            ],
            "text/plain": [
              "  country/region new_cases new_deaths total_cases total_deaths total_recovery\n",
              "0  North America   +22,557       +508  35,186,056      805,102           +508\n",
              "1  South America    +6,156        +65  20,108,383      520,367            +65\n",
              "2           Asia  +131,594     +1,072  27,220,157      418,541         +1,072\n",
              "3         Europe  +141,057     +3,495  37,886,614      884,770         +3,495\n",
              "4         Africa    +4,220       +122   4,152,243      110,527           +122"
            ]
          },
          "metadata": {
            "tags": []
          },
          "execution_count": 11
        }
      ]
    },
    {
      "cell_type": "code",
      "metadata": {
        "id": "mj7CE4DvZVKr",
        "outputId": "c262c067-fb69-4df6-b985-e64f5c4932ef",
        "colab": {
          "base_uri": "https://localhost:8080/",
          "height": 143
        }
      },
      "source": [
        "#splitting needed countries into two variables,\n",
        "#and then we converting it into .csv file!\n",
        "ksaData = cov_data.iloc[49:50]\n",
        "joData  = cov_data.iloc[43:44]\n",
        "#displaying both countries at once!\n",
        "display(ksaData)\n",
        "display(joData)"
      ],
      "execution_count": 12,
      "outputs": [
        {
          "output_type": "display_data",
          "data": {
            "text/html": [
              "<div>\n",
              "<style scoped>\n",
              "    .dataframe tbody tr th:only-of-type {\n",
              "        vertical-align: middle;\n",
              "    }\n",
              "\n",
              "    .dataframe tbody tr th {\n",
              "        vertical-align: top;\n",
              "    }\n",
              "\n",
              "    .dataframe thead th {\n",
              "        text-align: right;\n",
              "    }\n",
              "</style>\n",
              "<table border=\"1\" class=\"dataframe\">\n",
              "  <thead>\n",
              "    <tr style=\"text-align: right;\">\n",
              "      <th></th>\n",
              "      <th>country/region</th>\n",
              "      <th>new_cases</th>\n",
              "      <th>new_deaths</th>\n",
              "      <th>total_cases</th>\n",
              "      <th>total_deaths</th>\n",
              "      <th>total_recovery</th>\n",
              "    </tr>\n",
              "  </thead>\n",
              "  <tbody>\n",
              "    <tr>\n",
              "      <th>49</th>\n",
              "      <td>Saudi Arabia</td>\n",
              "      <td>+410</td>\n",
              "      <td>+5</td>\n",
              "      <td>385,834</td>\n",
              "      <td>6,618</td>\n",
              "      <td>+5</td>\n",
              "    </tr>\n",
              "  </tbody>\n",
              "</table>\n",
              "</div>"
            ],
            "text/plain": [
              "   country/region new_cases new_deaths total_cases total_deaths total_recovery\n",
              "49   Saudi Arabia      +410         +5     385,834        6,618             +5"
            ]
          },
          "metadata": {
            "tags": []
          }
        },
        {
          "output_type": "display_data",
          "data": {
            "text/html": [
              "<div>\n",
              "<style scoped>\n",
              "    .dataframe tbody tr th:only-of-type {\n",
              "        vertical-align: middle;\n",
              "    }\n",
              "\n",
              "    .dataframe tbody tr th {\n",
              "        vertical-align: top;\n",
              "    }\n",
              "\n",
              "    .dataframe thead th {\n",
              "        text-align: right;\n",
              "    }\n",
              "</style>\n",
              "<table border=\"1\" class=\"dataframe\">\n",
              "  <thead>\n",
              "    <tr style=\"text-align: right;\">\n",
              "      <th></th>\n",
              "      <th>country/region</th>\n",
              "      <th>new_cases</th>\n",
              "      <th>new_deaths</th>\n",
              "      <th>total_cases</th>\n",
              "      <th>total_deaths</th>\n",
              "      <th>total_recovery</th>\n",
              "    </tr>\n",
              "  </thead>\n",
              "  <tbody>\n",
              "    <tr>\n",
              "      <th>43</th>\n",
              "      <td>Jordan</td>\n",
              "      <td>+9,003</td>\n",
              "      <td>+92</td>\n",
              "      <td>553,727</td>\n",
              "      <td>6,077</td>\n",
              "      <td>+92</td>\n",
              "    </tr>\n",
              "  </tbody>\n",
              "</table>\n",
              "</div>"
            ],
            "text/plain": [
              "   country/region new_cases new_deaths total_cases total_deaths total_recovery\n",
              "43         Jordan    +9,003        +92     553,727        6,077            +92"
            ]
          },
          "metadata": {
            "tags": []
          }
        }
      ]
    },
    {
      "cell_type": "code",
      "metadata": {
        "id": "q30KX9omSO1p",
        "trusted": true
      },
      "source": [
        "#saving to .csv files\n",
        "cov_data.to_csv('./data/day4.csv', index = False, header=True)\n",
        "ksaData.to_csv('./data/ksa4.csv', index = True, header=False)\n",
        "joData.to_csv('./data/jordan4.csv', index = True, header=False)"
      ],
      "execution_count": 14,
      "outputs": []
    },
    {
      "cell_type": "code",
      "metadata": {
        "id": "r9OKR9MYVO1j",
        "trusted": true
      },
      "source": [
        ""
      ],
      "execution_count": null,
      "outputs": []
    },
    {
      "cell_type": "code",
      "metadata": {
        "trusted": true,
        "id": "Hl2Lx2PCZM2z"
      },
      "source": [
        ""
      ],
      "execution_count": null,
      "outputs": []
    }
  ]
}