{
  "nbformat": 4,
  "nbformat_minor": 0,
  "metadata": {
    "accelerator": "GPU",
    "colab": {
      "name": "visData.ipynb",
      "provenance": [],
      "collapsed_sections": []
    },
    "kernelspec": {
      "name": "python3",
      "display_name": "Python 3",
      "language": "python"
    },
    "language_info": {
      "name": "python",
      "version": "3.7.10",
      "mimetype": "text/x-python",
      "codemirror_mode": {
        "name": "ipython",
        "version": 3
      },
      "pygments_lexer": "ipython3",
      "nbconvert_exporter": "python",
      "file_extension": ".py"
    }
  },
  "cells": [
    {
      "cell_type": "code",
      "metadata": {
        "id": "tv-LXVpy8BWZ",
        "trusted": true
      },
      "source": [
        "try:\n",
        "  import pandas as pd\n",
        "  import matplotlib.pyplot as plt\n",
        "\n",
        "except Exception as e:\n",
        "  print(f'Installing packages: {e}')\n",
        "  !pip install pandas matplotlib"
      ],
      "execution_count": 1,
      "outputs": []
    },
    {
      "cell_type": "code",
      "metadata": {
        "id": "j-xV3MZf_ARQ",
        "trusted": true
      },
      "source": [
        "#now we start the concating for all days\n",
        "col_names = ['date','country/region','new_cases','new_deaths','total_cases','total_deaths','total_recovery']\n",
        "day01 = pd.read_csv('data/jordan01.csv', names=col_names)\n",
        "day02 = pd.read_csv('data/jordan02.csv', names=col_names)\n",
        "day03 = pd.read_csv('data/jordan03.csv', names=col_names)\n",
        "day04 = pd.read_csv('data/jordan04.csv', names=col_names)\n",
        "day05 = pd.read_csv('data/jordan05.csv', names=col_names)\n",
        "day06 = pd.read_csv('data/jordan06.csv', names=col_names)\n",
        "day07 = pd.read_csv('data/jordan07.csv', names=col_names)\n",
        "day08 = pd.read_csv('data/jordan08.csv', names=col_names)\n",
        "day09 = pd.read_csv('data/jordan09.csv', names=col_names)\n",
        "day10 = pd.read_csv('data/jordan10.csv', names=col_names)\n",
        "day11 = pd.read_csv('data/jordan11.csv', names=col_names)\n",
        "day12 = pd.read_csv('data/jordan12.csv', names=col_names)\n",
        "day13 = pd.read_csv('data/jordan13.csv', names=col_names)\n",
        "day14 = pd.read_csv('data/jordan14.csv', names=col_names)\n",
        "day15 = pd.read_csv('data/jordan15.csv', names=col_names)\n",
        "day16 = pd.read_csv('data/jordan16.csv', names=col_names)\n",
        "day17 = pd.read_csv('data/jordan17.csv', names=col_names)\n",
        "day18 = pd.read_csv('data/jordan18.csv', names=col_names)\n",
        "day19 = pd.read_csv('data/jordan19.csv', names=col_names)\n",
        "day20 = pd.read_csv('data/jordan20.csv', names=col_names)\n",
        "day21 = pd.read_csv('data/jordan21.csv', names=col_names)\n",
        "day22 = pd.read_csv('data/jordan22.csv', names=col_names)\n",
        "day23 = pd.read_csv('data/jordan23.csv', names=col_names)\n",
        "day24 = pd.read_csv('data/jordan24.csv', names=col_names)\n",
        "day25 = pd.read_csv('data/jordan25.csv', names=col_names)\n",
        "day26 = pd.read_csv('data/jordan26.csv', names=col_names)\n",
        "day27 = pd.read_csv('data/jordan27.csv', names=col_names)\n",
        "day28 = pd.read_csv('data/jordan28.csv', names=col_names)\n",
        "day29 = pd.read_csv('data/jordan29.csv', names=col_names)"
      ],
      "execution_count": 2,
      "outputs": []
    },
    {
      "cell_type": "code",
      "metadata": {
        "id": "Lqf6KBV__rwp",
        "trusted": true
      },
      "source": [
        "#lets concat using pd.concat() method\n",
        "data = pd.concat([day01,day02,day03,day04,day05,day06,day07,\n",
        "\tday08,day09,day10,day11,day12,day13,day14,day15,day16,\n",
        "\tday17,day18,day19,day20,day21,day22,day23,day24,day25,\n",
        "\tday26,day27,day28,day29])\n",
        "\n",
        "data.to_csv('./data/gen.csv', index=False)"
      ],
      "execution_count": 3,
      "outputs": []
    },
    {
      "cell_type": "code",
      "metadata": {
        "colab": {
          "base_uri": "https://localhost:8080/",
          "height": 948
        },
        "id": "5lAwR3PMZ0Vr",
        "trusted": true,
        "outputId": "45dcc640-447c-4c6d-b9fa-d553d419dfea"
      },
      "source": [
        "#removing punctuation from all rows, then converting them all to int()\n",
        "genData = pd.read_csv('data/gen.csv')\n",
        "genData['new_cases'] = genData['new_cases'].str.replace(r'\\W', '', regex=True).astype('int')\n",
        "genData['new_deaths'] = genData['new_deaths'].replace(r'\\W', '', regex=True).astype('int')\n",
        "genData['total_cases'] = genData['total_cases'].str.replace(r'\\W', '', regex=True).astype('int')\n",
        "genData['total_deaths'] = genData['total_deaths'].str.replace(r'\\W', '', regex=True).astype('int')\n",
        "genData['total_recovery'] = genData['total_recovery'].str.replace(r'\\W', '', regex=True).astype('int')\n",
        "\n",
        "genData"
      ],
      "execution_count": 4,
      "outputs": [
        {
          "output_type": "execute_result",
          "data": {
            "text/html": [
              "<div>\n",
              "<style scoped>\n",
              "    .dataframe tbody tr th:only-of-type {\n",
              "        vertical-align: middle;\n",
              "    }\n",
              "\n",
              "    .dataframe tbody tr th {\n",
              "        vertical-align: top;\n",
              "    }\n",
              "\n",
              "    .dataframe thead th {\n",
              "        text-align: right;\n",
              "    }\n",
              "</style>\n",
              "<table border=\"1\" class=\"dataframe\">\n",
              "  <thead>\n",
              "    <tr style=\"text-align: right;\">\n",
              "      <th></th>\n",
              "      <th>date</th>\n",
              "      <th>country/region</th>\n",
              "      <th>new_cases</th>\n",
              "      <th>new_deaths</th>\n",
              "      <th>total_cases</th>\n",
              "      <th>total_deaths</th>\n",
              "      <th>total_recovery</th>\n",
              "    </tr>\n",
              "  </thead>\n",
              "  <tbody>\n",
              "    <tr>\n",
              "      <th>0</th>\n",
              "      <td>2021-3-01</td>\n",
              "      <td>Jordan</td>\n",
              "      <td>6068</td>\n",
              "      <td>26</td>\n",
              "      <td>397158</td>\n",
              "      <td>4727</td>\n",
              "      <td>351256</td>\n",
              "    </tr>\n",
              "    <tr>\n",
              "      <th>1</th>\n",
              "      <td>2021-3-02</td>\n",
              "      <td>Jordan</td>\n",
              "      <td>5124</td>\n",
              "      <td>29</td>\n",
              "      <td>402282</td>\n",
              "      <td>4756</td>\n",
              "      <td>354143</td>\n",
              "    </tr>\n",
              "    <tr>\n",
              "      <th>2</th>\n",
              "      <td>2021-3-03</td>\n",
              "      <td>Jordan</td>\n",
              "      <td>5335</td>\n",
              "      <td>37</td>\n",
              "      <td>407617</td>\n",
              "      <td>4793</td>\n",
              "      <td>355781</td>\n",
              "    </tr>\n",
              "    <tr>\n",
              "      <th>3</th>\n",
              "      <td>2021-3-04</td>\n",
              "      <td>Jordan</td>\n",
              "      <td>5733</td>\n",
              "      <td>40</td>\n",
              "      <td>413350</td>\n",
              "      <td>4833</td>\n",
              "      <td>356648</td>\n",
              "    </tr>\n",
              "    <tr>\n",
              "      <th>4</th>\n",
              "      <td>2021-3-05</td>\n",
              "      <td>Jordan</td>\n",
              "      <td>4584</td>\n",
              "      <td>29</td>\n",
              "      <td>417934</td>\n",
              "      <td>4862</td>\n",
              "      <td>358848</td>\n",
              "    </tr>\n",
              "    <tr>\n",
              "      <th>5</th>\n",
              "      <td>2021-3-06</td>\n",
              "      <td>Jordan</td>\n",
              "      <td>3481</td>\n",
              "      <td>38</td>\n",
              "      <td>421415</td>\n",
              "      <td>4900</td>\n",
              "      <td>362765</td>\n",
              "    </tr>\n",
              "    <tr>\n",
              "      <th>6</th>\n",
              "      <td>2021-3-07</td>\n",
              "      <td>Jordan</td>\n",
              "      <td>6302</td>\n",
              "      <td>35</td>\n",
              "      <td>427717</td>\n",
              "      <td>4935</td>\n",
              "      <td>367315</td>\n",
              "    </tr>\n",
              "    <tr>\n",
              "      <th>7</th>\n",
              "      <td>2021-3-08</td>\n",
              "      <td>Jordan</td>\n",
              "      <td>7413</td>\n",
              "      <td>52</td>\n",
              "      <td>435130</td>\n",
              "      <td>4987</td>\n",
              "      <td>371454</td>\n",
              "    </tr>\n",
              "    <tr>\n",
              "      <th>8</th>\n",
              "      <td>2021-3-09</td>\n",
              "      <td>Jordan</td>\n",
              "      <td>7072</td>\n",
              "      <td>59</td>\n",
              "      <td>442202</td>\n",
              "      <td>5046</td>\n",
              "      <td>375478</td>\n",
              "    </tr>\n",
              "    <tr>\n",
              "      <th>9</th>\n",
              "      <td>2021-3-10</td>\n",
              "      <td>Jordan</td>\n",
              "      <td>6649</td>\n",
              "      <td>60</td>\n",
              "      <td>448851</td>\n",
              "      <td>5106</td>\n",
              "      <td>379305</td>\n",
              "    </tr>\n",
              "    <tr>\n",
              "      <th>10</th>\n",
              "      <td>2021-3-11</td>\n",
              "      <td>Jordan</td>\n",
              "      <td>8300</td>\n",
              "      <td>63</td>\n",
              "      <td>457151</td>\n",
              "      <td>5169</td>\n",
              "      <td>382949</td>\n",
              "    </tr>\n",
              "    <tr>\n",
              "      <th>11</th>\n",
              "      <td>2021-3-12</td>\n",
              "      <td>Jordan</td>\n",
              "      <td>7705</td>\n",
              "      <td>55</td>\n",
              "      <td>464856</td>\n",
              "      <td>5224</td>\n",
              "      <td>385533</td>\n",
              "    </tr>\n",
              "    <tr>\n",
              "      <th>12</th>\n",
              "      <td>2021-3-13</td>\n",
              "      <td>Jordan</td>\n",
              "      <td>4144</td>\n",
              "      <td>61</td>\n",
              "      <td>469000</td>\n",
              "      <td>5285</td>\n",
              "      <td>390127</td>\n",
              "    </tr>\n",
              "    <tr>\n",
              "      <th>13</th>\n",
              "      <td>2021-3-14</td>\n",
              "      <td>Jordan</td>\n",
              "      <td>8053</td>\n",
              "      <td>61</td>\n",
              "      <td>477053</td>\n",
              "      <td>5346</td>\n",
              "      <td>396195</td>\n",
              "    </tr>\n",
              "    <tr>\n",
              "      <th>14</th>\n",
              "      <td>2021-3-15</td>\n",
              "      <td>Jordan</td>\n",
              "      <td>9417</td>\n",
              "      <td>82</td>\n",
              "      <td>486470</td>\n",
              "      <td>5428</td>\n",
              "      <td>401319</td>\n",
              "    </tr>\n",
              "    <tr>\n",
              "      <th>15</th>\n",
              "      <td>2021-3-16</td>\n",
              "      <td>Jordan</td>\n",
              "      <td>8910</td>\n",
              "      <td>69</td>\n",
              "      <td>495380</td>\n",
              "      <td>5497</td>\n",
              "      <td>406654</td>\n",
              "    </tr>\n",
              "    <tr>\n",
              "      <th>16</th>\n",
              "      <td>2021-3-17</td>\n",
              "      <td>Jordan</td>\n",
              "      <td>9535</td>\n",
              "      <td>56</td>\n",
              "      <td>504915</td>\n",
              "      <td>5553</td>\n",
              "      <td>412387</td>\n",
              "    </tr>\n",
              "    <tr>\n",
              "      <th>17</th>\n",
              "      <td>2021-3-18</td>\n",
              "      <td>Jordan</td>\n",
              "      <td>9192</td>\n",
              "      <td>74</td>\n",
              "      <td>514107</td>\n",
              "      <td>5627</td>\n",
              "      <td>416971</td>\n",
              "    </tr>\n",
              "    <tr>\n",
              "      <th>18</th>\n",
              "      <td>2021-3-19</td>\n",
              "      <td>Jordan</td>\n",
              "      <td>7354</td>\n",
              "      <td>74</td>\n",
              "      <td>521461</td>\n",
              "      <td>5701</td>\n",
              "      <td>420452</td>\n",
              "    </tr>\n",
              "    <tr>\n",
              "      <th>19</th>\n",
              "      <td>2021-3-20</td>\n",
              "      <td>Jordan</td>\n",
              "      <td>5205</td>\n",
              "      <td>87</td>\n",
              "      <td>526666</td>\n",
              "      <td>5788</td>\n",
              "      <td>426754</td>\n",
              "    </tr>\n",
              "    <tr>\n",
              "      <th>20</th>\n",
              "      <td>2021-3-21</td>\n",
              "      <td>Jordan</td>\n",
              "      <td>8789</td>\n",
              "      <td>88</td>\n",
              "      <td>535455</td>\n",
              "      <td>5876</td>\n",
              "      <td>434167</td>\n",
              "    </tr>\n",
              "    <tr>\n",
              "      <th>21</th>\n",
              "      <td>2021-3-22</td>\n",
              "      <td>Jordan</td>\n",
              "      <td>9269</td>\n",
              "      <td>109</td>\n",
              "      <td>544724</td>\n",
              "      <td>5985</td>\n",
              "      <td>441239</td>\n",
              "    </tr>\n",
              "    <tr>\n",
              "      <th>22</th>\n",
              "      <td>2021-3-23</td>\n",
              "      <td>Jordan</td>\n",
              "      <td>9003</td>\n",
              "      <td>92</td>\n",
              "      <td>553727</td>\n",
              "      <td>6077</td>\n",
              "      <td>447888</td>\n",
              "    </tr>\n",
              "    <tr>\n",
              "      <th>23</th>\n",
              "      <td>2021-3-24</td>\n",
              "      <td>Jordan</td>\n",
              "      <td>9130</td>\n",
              "      <td>104</td>\n",
              "      <td>562857</td>\n",
              "      <td>6181</td>\n",
              "      <td>456188</td>\n",
              "    </tr>\n",
              "    <tr>\n",
              "      <th>24</th>\n",
              "      <td>2021-3-25</td>\n",
              "      <td>Jordan</td>\n",
              "      <td>8433</td>\n",
              "      <td>96</td>\n",
              "      <td>571290</td>\n",
              "      <td>6277</td>\n",
              "      <td>463893</td>\n",
              "    </tr>\n",
              "    <tr>\n",
              "      <th>25</th>\n",
              "      <td>2021-3-26</td>\n",
              "      <td>Jordan</td>\n",
              "      <td>6444</td>\n",
              "      <td>97</td>\n",
              "      <td>577734</td>\n",
              "      <td>6374</td>\n",
              "      <td>468037</td>\n",
              "    </tr>\n",
              "    <tr>\n",
              "      <th>26</th>\n",
              "      <td>2021-3-27</td>\n",
              "      <td>Jordan</td>\n",
              "      <td>4399</td>\n",
              "      <td>98</td>\n",
              "      <td>582133</td>\n",
              "      <td>6472</td>\n",
              "      <td>476090</td>\n",
              "    </tr>\n",
              "    <tr>\n",
              "      <th>27</th>\n",
              "      <td>2021-3-28</td>\n",
              "      <td>Jordan</td>\n",
              "      <td>7183</td>\n",
              "      <td>82</td>\n",
              "      <td>589316</td>\n",
              "      <td>6554</td>\n",
              "      <td>485507</td>\n",
              "    </tr>\n",
              "    <tr>\n",
              "      <th>28</th>\n",
              "      <td>2021-3-29</td>\n",
              "      <td>Jordan</td>\n",
              "      <td>7940</td>\n",
              "      <td>97</td>\n",
              "      <td>597256</td>\n",
              "      <td>6651</td>\n",
              "      <td>494417</td>\n",
              "    </tr>\n",
              "  </tbody>\n",
              "</table>\n",
              "</div>"
            ],
            "text/plain": [
              "         date country/region  ...  total_deaths  total_recovery\n",
              "0   2021-3-01         Jordan  ...          4727          351256\n",
              "1   2021-3-02         Jordan  ...          4756          354143\n",
              "2   2021-3-03         Jordan  ...          4793          355781\n",
              "3   2021-3-04         Jordan  ...          4833          356648\n",
              "4   2021-3-05         Jordan  ...          4862          358848\n",
              "5   2021-3-06         Jordan  ...          4900          362765\n",
              "6   2021-3-07         Jordan  ...          4935          367315\n",
              "7   2021-3-08         Jordan  ...          4987          371454\n",
              "8   2021-3-09         Jordan  ...          5046          375478\n",
              "9   2021-3-10         Jordan  ...          5106          379305\n",
              "10  2021-3-11         Jordan  ...          5169          382949\n",
              "11  2021-3-12         Jordan  ...          5224          385533\n",
              "12  2021-3-13         Jordan  ...          5285          390127\n",
              "13  2021-3-14         Jordan  ...          5346          396195\n",
              "14  2021-3-15         Jordan  ...          5428          401319\n",
              "15  2021-3-16         Jordan  ...          5497          406654\n",
              "16  2021-3-17         Jordan  ...          5553          412387\n",
              "17  2021-3-18         Jordan  ...          5627          416971\n",
              "18  2021-3-19         Jordan  ...          5701          420452\n",
              "19  2021-3-20         Jordan  ...          5788          426754\n",
              "20  2021-3-21         Jordan  ...          5876          434167\n",
              "21  2021-3-22         Jordan  ...          5985          441239\n",
              "22  2021-3-23         Jordan  ...          6077          447888\n",
              "23  2021-3-24         Jordan  ...          6181          456188\n",
              "24  2021-3-25         Jordan  ...          6277          463893\n",
              "25  2021-3-26         Jordan  ...          6374          468037\n",
              "26  2021-3-27         Jordan  ...          6472          476090\n",
              "27  2021-3-28         Jordan  ...          6554          485507\n",
              "28  2021-3-29         Jordan  ...          6651          494417\n",
              "\n",
              "[29 rows x 7 columns]"
            ]
          },
          "metadata": {
            "tags": []
          },
          "execution_count": 4
        }
      ]
    },
    {
      "cell_type": "code",
      "metadata": {
        "colab": {
          "base_uri": "https://localhost:8080/"
        },
        "id": "BznVCcS4XPeS",
        "trusted": true,
        "outputId": "247a0828-1cd7-4a60-952b-f82c65c54d2d"
      },
      "source": [
        "genData.isna().sum()"
      ],
      "execution_count": 5,
      "outputs": [
        {
          "output_type": "execute_result",
          "data": {
            "text/plain": [
              "date              0\n",
              "country/region    0\n",
              "new_cases         0\n",
              "new_deaths        0\n",
              "total_cases       0\n",
              "total_deaths      0\n",
              "total_recovery    0\n",
              "dtype: int64"
            ]
          },
          "metadata": {
            "tags": []
          },
          "execution_count": 5
        }
      ]
    },
    {
      "cell_type": "code",
      "metadata": {
        "colab": {
          "base_uri": "https://localhost:8080/"
        },
        "id": "og2G_CErXTAj",
        "trusted": true,
        "outputId": "f60e7e69-58aa-42f6-ad53-9eefffd621d0"
      },
      "source": [
        "genData.info()"
      ],
      "execution_count": 6,
      "outputs": [
        {
          "output_type": "stream",
          "text": [
            "<class 'pandas.core.frame.DataFrame'>\n",
            "RangeIndex: 29 entries, 0 to 28\n",
            "Data columns (total 7 columns):\n",
            " #   Column          Non-Null Count  Dtype \n",
            "---  ------          --------------  ----- \n",
            " 0   date            29 non-null     object\n",
            " 1   country/region  29 non-null     object\n",
            " 2   new_cases       29 non-null     int64 \n",
            " 3   new_deaths      29 non-null     int64 \n",
            " 4   total_cases     29 non-null     int64 \n",
            " 5   total_deaths    29 non-null     int64 \n",
            " 6   total_recovery  29 non-null     int64 \n",
            "dtypes: int64(5), object(2)\n",
            "memory usage: 1.7+ KB\n"
          ],
          "name": "stdout"
        }
      ]
    },
    {
      "cell_type": "code",
      "metadata": {
        "id": "3L-_cNSKd97B",
        "trusted": true
      },
      "source": [
        "graphD = genData.set_index('date')"
      ],
      "execution_count": 7,
      "outputs": []
    },
    {
      "cell_type": "code",
      "metadata": {
        "colab": {
          "base_uri": "https://localhost:8080/",
          "height": 356
        },
        "id": "1hKBpHZMgW9e",
        "trusted": true,
        "outputId": "94d917ab-9818-4998-e50f-3d4de1581b30"
      },
      "source": [
        "graphData = graphD.loc['2021-3-01' :'2021-3-29'][['new_cases']].plot(color=['yellow'],kind='line',figsize=(16,5), linestyle='-.')\n",
        "graphData.set_facecolor('black')\n",
        "graphData.tick_params(axis='x', colors='red')\n",
        "graphData.tick_params(axis='y', colors='red')\n",
        "plt.suptitle('New Cases')\n",
        "plt.show()"
      ],
      "execution_count": 17,
      "outputs": [
        {
          "output_type": "display_data",
          "data": {
            "image/png": "[encoded data removed]",
            "text/plain": [
              "<Figure size 1152x360 with 1 Axes>"
            ]
          },
          "metadata": {
            "tags": [],
            "needs_background": "light"
          }
        }
      ]
    },
    {
      "cell_type": "code",
      "metadata": {
        "id": "iWxfmx-pBPH_",
        "colab": {
          "base_uri": "https://localhost:8080/",
          "height": 351
        },
        "outputId": "d5708988-199e-4a9b-ecb4-6ff615db835b"
      },
      "source": [
        "graphData = graphD.loc['2021-3-01' :'2021-3-29'][['total_cases']].plot(color=['yellow'],kind='line',figsize=(16,5), linestyle='-.')\n",
        "graphData.set_facecolor('black')\n",
        "graphData.tick_params(axis='x', colors='red')\n",
        "graphData.tick_params(axis='y', colors='red')\n",
        "plt.suptitle('Total Cases')\n",
        "plt.show()"
      ],
      "execution_count": 18,
      "outputs": [
        {
          "output_type": "display_data",
          "data": {
            "image/png": "[encoded data removed]",
            "text/plain": [
              "<Figure size 1152x360 with 1 Axes>"
            ]
          },
          "metadata": {
            "tags": [],
            "needs_background": "light"
          }
        }
      ]
    },
    {
      "cell_type": "code",
      "metadata": {
        "colab": {
          "base_uri": "https://localhost:8080/",
          "height": 358
        },
        "id": "4-oxX9nz6RoF",
        "outputId": "9b142975-ffca-40de-e9be-120468a3b149"
      },
      "source": [
        "graphData = graphD.loc['2021-3-01' :'2021-3-29'][['new_deaths']].plot(color=['red'],kind='line',figsize=(16,5), linestyle='-.')\n",
        "graphData.tick_params(axis='x', colors='red')\n",
        "graphData.tick_params(axis='y', colors='red')\n",
        "graphData.set_facecolor('black')\n",
        "plt.suptitle('New Deaths')\n",
        "plt.show()"
      ],
      "execution_count": 23,
      "outputs": [
        {
          "output_type": "display_data",
          "data": {
            "image/png": "[encoded data removed]",
            "text/plain": [
              "<Figure size 1152x360 with 1 Axes>"
            ]
          },
          "metadata": {
            "tags": [],
            "needs_background": "light"
          }
        }
      ]
    },
    {
      "cell_type": "code",
      "metadata": {
        "id": "hJV9zbPhBYFj",
        "colab": {
          "base_uri": "https://localhost:8080/",
          "height": 356
        },
        "outputId": "f03241bf-4cbb-4ba3-fdf9-2525ad5d00d7"
      },
      "source": [
        "graphData = graphD.loc['2021-3-01' :'2021-3-29'][['total_deaths']].plot(color=['red'],kind='line',figsize=(16,5), linestyle='-.')\n",
        "graphData.set_facecolor('black')\n",
        "graphData.tick_params(axis='x', colors='red')\n",
        "graphData.tick_params(axis='y', colors='red')\n",
        "plt.suptitle('Total Deaths')\n",
        "plt.show()"
      ],
      "execution_count": 22,
      "outputs": [
        {
          "output_type": "display_data",
          "data": {
            "image/png": "[encoded data removed]",
            "text/plain": [
              "<Figure size 1152x360 with 1 Axes>"
            ]
          },
          "metadata": {
            "tags": [],
            "needs_background": "light"
          }
        }
      ]
    },
    {
      "cell_type": "code",
      "metadata": {
        "colab": {
          "base_uri": "https://localhost:8080/",
          "height": 391
        },
        "id": "_nhRi2ZfiLRJ",
        "trusted": true,
        "outputId": "77b3cb7b-5653-4d4b-8ef0-d0e6b901d963"
      },
      "source": [
        "graphData = graphD.loc['2021-3-01' :'2021-3-29'][['total_cases','total_deaths','total_recovery']].plot(color=['yellow','red','green'],kind='bar',figsize=(16,5), linestyle='-.')\n",
        "graphData.set_facecolor('black')\n",
        "graphData.tick_params(axis='x', colors='red')\n",
        "graphData.tick_params(axis='y', colors='red')\n",
        "plt.suptitle('Graph Of Total(Cases, Deaths, Recovery)')\n",
        "plt.show()"
      ],
      "execution_count": 24,
      "outputs": [
        {
          "output_type": "display_data",
          "data": {
            "image/png": "[encoded data removed]",
            "text/plain": [
              "<Figure size 1152x360 with 1 Axes>"
            ]
          },
          "metadata": {
            "tags": [],
            "needs_background": "light"
          }
        }
      ]
    },
    {
      "cell_type": "code",
      "metadata": {
        "id": "gQM52A7CQWPd"
      },
      "source": [
        ""
      ],
      "execution_count": null,
      "outputs": []
    }
  ]
}