{
  "nbformat": 4,
  "nbformat_minor": 0,
  "metadata": {
    "accelerator": "GPU",
    "colab": {
      "name": "visData.ipynb",
      "provenance": [],
      "collapsed_sections": []
    },
    "kernelspec": {
      "name": "python3",
      "display_name": "Python 3",
      "language": "python"
    },
    "language_info": {
      "name": "python",
      "version": "3.7.10",
      "mimetype": "text/x-python",
      "codemirror_mode": {
        "name": "ipython",
        "version": 3
      },
      "pygments_lexer": "ipython3",
      "nbconvert_exporter": "python",
      "file_extension": ".py"
    }
  },
  "cells": [
    {
      "cell_type": "code",
      "metadata": {
        "id": "tv-LXVpy8BWZ",
        "trusted": true
      },
      "source": [
        "try:\n",
        "    import pandas as pd\n",
        "    import matplotlib.pyplot as plt\n",
        "    %matplotlib inline\n",
        "\n",
        "except Exception as e:\n",
        "    print(f'Installing packages: {e}')\n",
        "    !pip install pandas matplotlib"
      ],
      "execution_count": 1,
      "outputs": []
    },
    {
      "cell_type": "code",
      "metadata": {
        "id": "j-xV3MZf_ARQ",
        "trusted": true
      },
      "source": [
        "col_names = ['date','country/region','new_cases','new_deaths','total_cases','total_deaths','total_recovery']\n",
        "day1 = pd.read_csv('./data/jordan1.csv', names=col_names)\n",
        "day2 = pd.read_csv('./data/jordan2.csv', names=col_names)\n",
        "day3 = pd.read_csv('./data/jordan3.csv', names=col_names)\n",
        "day4 = pd.read_csv('./data/jordan4.csv', names=col_names)\n",
        "day5 = pd.read_csv('./data/jordan5.csv', names=col_names)\n",
        "day6 = pd.read_csv('./data/jordan6.csv', names=col_names)"
      ],
      "execution_count": 2,
      "outputs": []
    },
    {
      "cell_type": "code",
      "metadata": {
        "id": "Lqf6KBV__rwp",
        "trusted": true
      },
      "source": [
        "data = pd.concat([day1,day2,day3,day4,day5])\n",
        "data.to_csv('./data/gen.csv', index=False)"
      ],
      "execution_count": 3,
      "outputs": []
    },
    {
      "cell_type": "code",
      "metadata": {
        "colab": {
          "base_uri": "https://localhost:8080/",
          "height": 204
        },
        "id": "5lAwR3PMZ0Vr",
        "trusted": true,
        "outputId": "0b67ec82-a0a4-4e29-e9ef-8c24cae35d86"
      },
      "source": [
        "genData = pd.read_csv('data/gen.csv')\n",
        "genData['new_cases'] = genData['new_cases'].str.replace(r'\\W', '', regex=True).astype('int')\n",
        "genData['new_deaths'] = genData['new_deaths'].replace(r'\\W', '', regex=True).astype('int')\n",
        "genData['total_cases'] = genData['total_cases'].str.replace(r'\\W', '', regex=True).astype('int')\n",
        "genData['total_deaths'] = genData['total_deaths'].str.replace(r'\\W', '', regex=True).astype('int')\n",
        "genData['total_recovery'] = genData['total_recovery'].str.replace(r'\\W', '', regex=True).astype('int')\n",
        "\n",
        "genData"
      ],
      "execution_count": 4,
      "outputs": [
        {
          "output_type": "execute_result",
          "data": {
            "text/html": [
              "<div>\n",
              "<style scoped>\n",
              "    .dataframe tbody tr th:only-of-type {\n",
              "        vertical-align: middle;\n",
              "    }\n",
              "\n",
              "    .dataframe tbody tr th {\n",
              "        vertical-align: top;\n",
              "    }\n",
              "\n",
              "    .dataframe thead th {\n",
              "        text-align: right;\n",
              "    }\n",
              "</style>\n",
              "<table border=\"1\" class=\"dataframe\">\n",
              "  <thead>\n",
              "    <tr style=\"text-align: right;\">\n",
              "      <th></th>\n",
              "      <th>date</th>\n",
              "      <th>country/region</th>\n",
              "      <th>new_cases</th>\n",
              "      <th>new_deaths</th>\n",
              "      <th>total_cases</th>\n",
              "      <th>total_deaths</th>\n",
              "      <th>total_recovery</th>\n",
              "    </tr>\n",
              "  </thead>\n",
              "  <tbody>\n",
              "    <tr>\n",
              "      <th>0</th>\n",
              "      <td>2021-3-20</td>\n",
              "      <td>Jordan</td>\n",
              "      <td>5205</td>\n",
              "      <td>87</td>\n",
              "      <td>526666</td>\n",
              "      <td>5788</td>\n",
              "      <td>426754</td>\n",
              "    </tr>\n",
              "    <tr>\n",
              "      <th>1</th>\n",
              "      <td>2021-3-21</td>\n",
              "      <td>Jordan</td>\n",
              "      <td>8789</td>\n",
              "      <td>88</td>\n",
              "      <td>535455</td>\n",
              "      <td>5876</td>\n",
              "      <td>434167</td>\n",
              "    </tr>\n",
              "    <tr>\n",
              "      <th>2</th>\n",
              "      <td>2021-3-22</td>\n",
              "      <td>Jordan</td>\n",
              "      <td>9269</td>\n",
              "      <td>109</td>\n",
              "      <td>544724</td>\n",
              "      <td>5985</td>\n",
              "      <td>109</td>\n",
              "    </tr>\n",
              "    <tr>\n",
              "      <th>3</th>\n",
              "      <td>2021-3-23</td>\n",
              "      <td>Jordan</td>\n",
              "      <td>9003</td>\n",
              "      <td>92</td>\n",
              "      <td>553727</td>\n",
              "      <td>6077</td>\n",
              "      <td>92</td>\n",
              "    </tr>\n",
              "    <tr>\n",
              "      <th>4</th>\n",
              "      <td>2021-3-24</td>\n",
              "      <td>Jordan</td>\n",
              "      <td>9130</td>\n",
              "      <td>104</td>\n",
              "      <td>562857</td>\n",
              "      <td>6181</td>\n",
              "      <td>456188</td>\n",
              "    </tr>\n",
              "  </tbody>\n",
              "</table>\n",
              "</div>"
            ],
            "text/plain": [
              "        date country/region  ...  total_deaths  total_recovery\n",
              "0  2021-3-20         Jordan  ...          5788          426754\n",
              "1  2021-3-21         Jordan  ...          5876          434167\n",
              "2  2021-3-22         Jordan  ...          5985             109\n",
              "3  2021-3-23         Jordan  ...          6077              92\n",
              "4  2021-3-24         Jordan  ...          6181          456188\n",
              "\n",
              "[5 rows x 7 columns]"
            ]
          },
          "metadata": {
            "tags": []
          },
          "execution_count": 4
        }
      ]
    },
    {
      "cell_type": "code",
      "metadata": {
        "colab": {
          "base_uri": "https://localhost:8080/"
        },
        "id": "BznVCcS4XPeS",
        "trusted": true,
        "outputId": "0a572956-9c1a-42d8-fd29-685cd730637e"
      },
      "source": [
        "genData.isna().sum()"
      ],
      "execution_count": 5,
      "outputs": [
        {
          "output_type": "execute_result",
          "data": {
            "text/plain": [
              "date              0\n",
              "country/region    0\n",
              "new_cases         0\n",
              "new_deaths        0\n",
              "total_cases       0\n",
              "total_deaths      0\n",
              "total_recovery    0\n",
              "dtype: int64"
            ]
          },
          "metadata": {
            "tags": []
          },
          "execution_count": 5
        }
      ]
    },
    {
      "cell_type": "code",
      "metadata": {
        "colab": {
          "base_uri": "https://localhost:8080/"
        },
        "id": "og2G_CErXTAj",
        "trusted": true,
        "outputId": "f576d70f-3ce7-4b41-f4bd-b2e8f3b897c1"
      },
      "source": [
        "genData.info()"
      ],
      "execution_count": 6,
      "outputs": [
        {
          "output_type": "stream",
          "text": [
            "<class 'pandas.core.frame.DataFrame'>\n",
            "RangeIndex: 5 entries, 0 to 4\n",
            "Data columns (total 7 columns):\n",
            " #   Column          Non-Null Count  Dtype \n",
            "---  ------          --------------  ----- \n",
            " 0   date            5 non-null      object\n",
            " 1   country/region  5 non-null      object\n",
            " 2   new_cases       5 non-null      int64 \n",
            " 3   new_deaths      5 non-null      int64 \n",
            " 4   total_cases     5 non-null      int64 \n",
            " 5   total_deaths    5 non-null      int64 \n",
            " 6   total_recovery  5 non-null      int64 \n",
            "dtypes: int64(5), object(2)\n",
            "memory usage: 408.0+ bytes\n"
          ],
          "name": "stdout"
        }
      ]
    },
    {
      "cell_type": "code",
      "metadata": {
        "id": "3L-_cNSKd97B",
        "trusted": true
      },
      "source": [
        "graphD = genData.set_index('date')"
      ],
      "execution_count": 7,
      "outputs": []
    },
    {
      "cell_type": "code",
      "metadata": {
        "colab": {
          "base_uri": "https://localhost:8080/",
          "height": 304
        },
        "id": "1hKBpHZMgW9e",
        "trusted": true,
        "outputId": "e3ec6d22-2e70-404c-a35c-7bb7ebc52487"
      },
      "source": [
        "graphData = graphD.loc['2021-3-20' :'2021-3-25'][['new_cases']].plot(color=['yellow'],kind='line',figsize=(17,5), linestyle='-.')\n",
        "graphData.tick_params(axis='x', colors='red')\n",
        "graphData.tick_params(axis='y', colors='red')\n",
        "graphData.set_facecolor('black')\n",
        "plt.show()"
      ],
      "execution_count": 14,
      "outputs": [
        {
          "output_type": "display_data",
          "data": {
            "image/png": "[encoded data removed]",
            "text/plain": [
              "<Figure size 1224x360 with 1 Axes>"
            ]
          },
          "metadata": {
            "tags": [],
            "needs_background": "light"
          }
        }
      ]
    },
    {
      "cell_type": "code",
      "metadata": {
        "id": "4-oxX9nz6RoF",
        "outputId": "605fc273-186b-4368-b9c7-1da39bde4fa9",
        "colab": {
          "base_uri": "https://localhost:8080/",
          "height": 309
        }
      },
      "source": [
        "graphData = graphD.loc['2021-3-20' :'2021-3-25'][['new_deaths']].plot(color=['red'],kind='line',figsize=(17,5), linestyle='-.')\n",
        "graphData.tick_params(axis='x', colors='red')\n",
        "graphData.tick_params(axis='y', colors='red')\n",
        "graphData.set_facecolor('black')\n",
        "plt.show()"
      ],
      "execution_count": 18,
      "outputs": [
        {
          "output_type": "display_data",
          "data": {
            "image/png": "[encoded data removed]",
            "text/plain": [
              "<Figure size 1224x360 with 1 Axes>"
            ]
          },
          "metadata": {
            "tags": [],
            "needs_background": "light"
          }
        }
      ]
    },
    {
      "cell_type": "code",
      "metadata": {
        "colab": {
          "base_uri": "https://localhost:8080/",
          "height": 375
        },
        "id": "_nhRi2ZfiLRJ",
        "trusted": true,
        "outputId": "0a08e7ad-bbcb-413f-e659-e9ae0c4cee4f"
      },
      "source": [
        "graphData = graphD.loc['2021-3-20' :'2021-3-25'][['total_cases','total_deaths','total_recovery']].plot(color=['yellow','red','green'],kind='bar',figsize=(12,5), linestyle='-.')\n",
        "graphData.tick_params(axis='x', colors='red')\n",
        "graphData.tick_params(axis='y', colors='red')\n",
        "graphData.set_facecolor('black')\n",
        "plt.show()"
      ],
      "execution_count": 19,
      "outputs": [
        {
          "output_type": "display_data",
          "data": {
            "image/png": "[encoded data removed]",
            "text/plain": [
              "<Figure size 864x360 with 1 Axes>"
            ]
          },
          "metadata": {
            "tags": [],
            "needs_background": "light"
          }
        }
      ]
    },
    {
      "cell_type": "code",
      "metadata": {
        "id": "IpPXykn1lsLD",
        "trusted": true
      },
      "source": [
        ""
      ],
      "execution_count": null,
      "outputs": []
    }
  ]
}