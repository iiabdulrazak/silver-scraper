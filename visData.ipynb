{
  "nbformat": 4,
  "nbformat_minor": 0,
  "metadata": {
    "colab": {
      "name": "visData.ipynb",
      "provenance": [],
      "authorship_tag": "ABX9TyOOpQKrZAcfKWjHT6aQngV6"
    },
    "kernelspec": {
      "name": "python3",
      "display_name": "Python 3"
    },
    "language_info": {
      "name": "python"
    },
    "accelerator": "GPU"
  },
  "cells": [
    {
      "cell_type": "code",
      "metadata": {
        "id": "tv-LXVpy8BWZ"
      },
      "source": [
        "try:\n",
        "  import pandas as pd\n",
        "  import matplotlib.pyplot as plt\n",
        "\n",
        "except Exception as e:\n",
        "  print(f'Error importing: \\n{e}')"
      ],
      "execution_count": 1,
      "outputs": []
    },
    {
      "cell_type": "code",
      "metadata": {
        "id": "j-xV3MZf_ARQ"
      },
      "source": [
        "col_names = ['country/region','new_cases','new_deaths','total_cases','total_deaths','total_recovery']\n",
        "day1 = pd.read_csv('./data/jordan1.csv', names=col_names)\n",
        "day2 = pd.read_csv('./data/jordan2.csv', names=col_names)\n",
        "day3 = pd.read_csv('./data/jordan3.csv', names=col_names)"
      ],
      "execution_count": 2,
      "outputs": []
    },
    {
      "cell_type": "code",
      "metadata": {
        "colab": {
          "base_uri": "https://localhost:8080/",
          "height": 142
        },
        "id": "Lqf6KBV__rwp",
        "outputId": "c49bd523-58ac-4362-9421-1a3adc724183"
      },
      "source": [
        "data = pd.concat([day1,day2,day3])\n",
        "data"
      ],
      "execution_count": 3,
      "outputs": [
        {
          "output_type": "execute_result",
          "data": {
            "text/html": [
              "<div>\n",
              "<style scoped>\n",
              "    .dataframe tbody tr th:only-of-type {\n",
              "        vertical-align: middle;\n",
              "    }\n",
              "\n",
              "    .dataframe tbody tr th {\n",
              "        vertical-align: top;\n",
              "    }\n",
              "\n",
              "    .dataframe thead th {\n",
              "        text-align: right;\n",
              "    }\n",
              "</style>\n",
              "<table border=\"1\" class=\"dataframe\">\n",
              "  <thead>\n",
              "    <tr style=\"text-align: right;\">\n",
              "      <th></th>\n",
              "      <th>country/region</th>\n",
              "      <th>new_cases</th>\n",
              "      <th>new_deaths</th>\n",
              "      <th>total_cases</th>\n",
              "      <th>total_deaths</th>\n",
              "      <th>total_recovery</th>\n",
              "    </tr>\n",
              "  </thead>\n",
              "  <tbody>\n",
              "    <tr>\n",
              "      <th>43</th>\n",
              "      <td>Jordan</td>\n",
              "      <td>+5,205</td>\n",
              "      <td>87</td>\n",
              "      <td>526,666</td>\n",
              "      <td>5,788</td>\n",
              "      <td>426,754</td>\n",
              "    </tr>\n",
              "    <tr>\n",
              "      <th>43</th>\n",
              "      <td>Jordan</td>\n",
              "      <td>+8,789</td>\n",
              "      <td>88</td>\n",
              "      <td>535,455</td>\n",
              "      <td>5,876</td>\n",
              "      <td>434,167</td>\n",
              "    </tr>\n",
              "    <tr>\n",
              "      <th>43</th>\n",
              "      <td>Jordan</td>\n",
              "      <td>+9,269</td>\n",
              "      <td>109</td>\n",
              "      <td>544,724</td>\n",
              "      <td>5,985</td>\n",
              "      <td>109</td>\n",
              "    </tr>\n",
              "  </tbody>\n",
              "</table>\n",
              "</div>"
            ],
            "text/plain": [
              "   country/region new_cases  new_deaths total_cases total_deaths total_recovery\n",
              "43         Jordan    +5,205          87     526,666        5,788        426,754\n",
              "43         Jordan    +8,789          88     535,455        5,876        434,167\n",
              "43         Jordan    +9,269         109     544,724        5,985            109"
            ]
          },
          "metadata": {
            "tags": []
          },
          "execution_count": 3
        }
      ]
    },
    {
      "cell_type": "code",
      "metadata": {
        "id": "A4w-fzrTCqCZ"
      },
      "source": [
        ""
      ],
      "execution_count": null,
      "outputs": []
    }
  ]
}