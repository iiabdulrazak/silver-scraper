{
  "nbformat": 4,
  "nbformat_minor": 0,
  "metadata": {
    "colab": {
      "name": "visData.ipynb",
      "provenance": [],
      "collapsed_sections": [],
      "authorship_tag": "ABX9TyP4jwOTPkxE51eQ6ZbQkZZA"
    },
    "kernelspec": {
      "name": "python3",
      "display_name": "Python 3"
    },
    "language_info": {
      "name": "python"
    },
    "accelerator": "GPU"
  },
  "cells": [
    {
      "cell_type": "code",
      "metadata": {
        "id": "tv-LXVpy8BWZ"
      },
      "source": [
        "try:\n",
        "  import pandas as pd\n",
        "  import matplotlib.pyplot as plt\n",
        "\n",
        "except Exception as e:\n",
        "  print(f'Error importing: \\n{e}')"
      ],
      "execution_count": 2,
      "outputs": []
    },
    {
      "cell_type": "code",
      "metadata": {
        "id": "j-xV3MZf_ARQ"
      },
      "source": [
        "col_names = ['country/region','new_cases','new_deaths','total_cases','total_deaths','total_recovery']\n",
        "day1 = pd.read_csv('./data/jordan1.csv', names=col_names)\n",
        "day2 = pd.read_csv('./data/jordan2.csv', names=col_names)\n",
        "day3 = pd.read_csv('./data/jordan3.csv', names=col_names)\n",
        "day4 = pd.read_csv('./data/jordan4.csv', names=col_names)"
      ],
      "execution_count": 3,
      "outputs": []
    },
    {
      "cell_type": "code",
      "metadata": {
        "id": "Lqf6KBV__rwp"
      },
      "source": [
        "data = pd.concat([day1,day2,day3,day4])\n",
        "data.to_csv('./data/gen.csv')"
      ],
      "execution_count": null,
      "outputs": []
    },
    {
      "cell_type": "code",
      "metadata": {
        "id": "5lAwR3PMZ0Vr",
        "outputId": "1f1b64c8-d71f-4357-b166-408fbd6b930a",
        "colab": {
          "base_uri": "https://localhost:8080/",
          "height": 173
        }
      },
      "source": [
        "genData = pd.read_csv('data/gen.csv')\n",
        "genData"
      ],
      "execution_count": 24,
      "outputs": [
        {
          "output_type": "execute_result",
          "data": {
            "text/html": [
              "<div>\n",
              "<style scoped>\n",
              "    .dataframe tbody tr th:only-of-type {\n",
              "        vertical-align: middle;\n",
              "    }\n",
              "\n",
              "    .dataframe tbody tr th {\n",
              "        vertical-align: top;\n",
              "    }\n",
              "\n",
              "    .dataframe thead th {\n",
              "        text-align: right;\n",
              "    }\n",
              "</style>\n",
              "<table border=\"1\" class=\"dataframe\">\n",
              "  <thead>\n",
              "    <tr style=\"text-align: right;\">\n",
              "      <th></th>\n",
              "      <th>date</th>\n",
              "      <th>country/region</th>\n",
              "      <th>new_cases</th>\n",
              "      <th>new_deaths</th>\n",
              "      <th>total_cases</th>\n",
              "      <th>total_deaths</th>\n",
              "      <th>total_recovery</th>\n",
              "    </tr>\n",
              "  </thead>\n",
              "  <tbody>\n",
              "    <tr>\n",
              "      <th>0</th>\n",
              "      <td>3/20/2021</td>\n",
              "      <td>Jordan</td>\n",
              "      <td>5205</td>\n",
              "      <td>87</td>\n",
              "      <td>526666</td>\n",
              "      <td>5788</td>\n",
              "      <td>426754</td>\n",
              "    </tr>\n",
              "    <tr>\n",
              "      <th>1</th>\n",
              "      <td>3/21/2021</td>\n",
              "      <td>Jordan</td>\n",
              "      <td>8789</td>\n",
              "      <td>88</td>\n",
              "      <td>535455</td>\n",
              "      <td>5876</td>\n",
              "      <td>434167</td>\n",
              "    </tr>\n",
              "    <tr>\n",
              "      <th>2</th>\n",
              "      <td>3/22/2021</td>\n",
              "      <td>Jordan</td>\n",
              "      <td>9269</td>\n",
              "      <td>109</td>\n",
              "      <td>544724</td>\n",
              "      <td>5985</td>\n",
              "      <td>109</td>\n",
              "    </tr>\n",
              "    <tr>\n",
              "      <th>3</th>\n",
              "      <td>3/23/2021</td>\n",
              "      <td>Jordan</td>\n",
              "      <td>9003</td>\n",
              "      <td>92</td>\n",
              "      <td>553727</td>\n",
              "      <td>6077</td>\n",
              "      <td>92</td>\n",
              "    </tr>\n",
              "  </tbody>\n",
              "</table>\n",
              "</div>"
            ],
            "text/plain": [
              "        date country/region  ...  total_deaths  total_recovery\n",
              "0  3/20/2021         Jordan  ...          5788          426754\n",
              "1  3/21/2021         Jordan  ...          5876          434167\n",
              "2  3/22/2021         Jordan  ...          5985             109\n",
              "3  3/23/2021         Jordan  ...          6077              92\n",
              "\n",
              "[4 rows x 7 columns]"
            ]
          },
          "metadata": {
            "tags": []
          },
          "execution_count": 24
        }
      ]
    },
    {
      "cell_type": "code",
      "metadata": {
        "id": "BznVCcS4XPeS",
        "outputId": "7fecc499-846e-46a0-d3f1-5f82d3530888",
        "colab": {
          "base_uri": "https://localhost:8080/"
        }
      },
      "source": [
        "genData.isna().sum()"
      ],
      "execution_count": 25,
      "outputs": [
        {
          "output_type": "execute_result",
          "data": {
            "text/plain": [
              "date              0\n",
              "country/region    0\n",
              "new_cases         0\n",
              "new_deaths        0\n",
              "total_cases       0\n",
              "total_deaths      0\n",
              "total_recovery    0\n",
              "dtype: int64"
            ]
          },
          "metadata": {
            "tags": []
          },
          "execution_count": 25
        }
      ]
    },
    {
      "cell_type": "code",
      "metadata": {
        "id": "og2G_CErXTAj",
        "outputId": "fc15d691-17ce-4a31-8f2b-59f651d15c49",
        "colab": {
          "base_uri": "https://localhost:8080/"
        }
      },
      "source": [
        "genData.info()"
      ],
      "execution_count": 26,
      "outputs": [
        {
          "output_type": "stream",
          "text": [
            "<class 'pandas.core.frame.DataFrame'>\n",
            "RangeIndex: 4 entries, 0 to 3\n",
            "Data columns (total 7 columns):\n",
            " #   Column          Non-Null Count  Dtype \n",
            "---  ------          --------------  ----- \n",
            " 0   date            4 non-null      object\n",
            " 1   country/region  4 non-null      object\n",
            " 2   new_cases       4 non-null      int64 \n",
            " 3   new_deaths      4 non-null      int64 \n",
            " 4   total_cases     4 non-null      int64 \n",
            " 5   total_deaths    4 non-null      int64 \n",
            " 6   total_recovery  4 non-null      int64 \n",
            "dtypes: int64(5), object(2)\n",
            "memory usage: 352.0+ bytes\n"
          ],
          "name": "stdout"
        }
      ]
    },
    {
      "cell_type": "code",
      "metadata": {
        "id": "wADJ0eOodsRF",
        "outputId": "a92895da-f417-4974-a7fb-1ddcfdcbdb66",
        "colab": {
          "base_uri": "https://localhost:8080/"
        }
      },
      "source": [
        "genData.columns"
      ],
      "execution_count": 27,
      "outputs": [
        {
          "output_type": "execute_result",
          "data": {
            "text/plain": [
              "Index(['date', 'country/region', 'new_cases', 'new_deaths', 'total_cases',\n",
              "       'total_deaths', 'total_recovery'],\n",
              "      dtype='object')"
            ]
          },
          "metadata": {
            "tags": []
          },
          "execution_count": 27
        }
      ]
    },
    {
      "cell_type": "code",
      "metadata": {
        "id": "3L-_cNSKd97B"
      },
      "source": [
        "graphD = genData.set_index('date')"
      ],
      "execution_count": 53,
      "outputs": []
    },
    {
      "cell_type": "code",
      "metadata": {
        "id": "1hKBpHZMgW9e",
        "outputId": "cc186bd2-5862-423c-bdf0-1c83129d2d6d",
        "colab": {
          "base_uri": "https://localhost:8080/",
          "height": 285
        }
      },
      "source": [
        "graphData = graphD.loc['3/20/2021' :'3/23/2021'][['total_cases','total_deaths','total_recovery']].plot(color=['yellow','red','green'],kind='line',figsize=(17,5), linestyle='-.')\n",
        "graphData.tick_params(axis='x', colors='red')\n",
        "graphData.tick_params(axis='y', colors='red')\n",
        "graphData.set_facecolor('black')\n",
        "plt.show()"
      ],
      "execution_count": 66,
      "outputs": [
        {
          "output_type": "display_data",
          "data": {
            "image/png": "[encoded data removed]",
            "text/plain": [
              "<Figure size 1224x360 with 1 Axes>"
            ]
          },
          "metadata": {
            "tags": [],
            "needs_background": "light"
          }
        }
      ]
    },
    {
      "cell_type": "code",
      "metadata": {
        "id": "_nhRi2ZfiLRJ",
        "outputId": "6d65676a-40cb-4847-9c56-f7098ac3a787",
        "colab": {
          "base_uri": "https://localhost:8080/",
          "height": 375
        }
      },
      "source": [
        "graphData = graphD.loc['3/20/2021' :'3/23/2021'][['total_cases','total_deaths','total_recovery']].plot(color=['yellow','red','green'],kind='bar',figsize=(12,5), linestyle='-.')\n",
        "graphData.tick_params(axis='x', colors='red')\n",
        "graphData.tick_params(axis='y', colors='red')\n",
        "graphData.set_facecolor('black')\n",
        "plt.show()"
      ],
      "execution_count": 67,
      "outputs": [
        {
          "output_type": "display_data",
          "data": {
            "image/png": "[encoded data removed]",
            "text/plain": [
              "<Figure size 864x360 with 1 Axes>"
            ]
          },
          "metadata": {
            "tags": [],
            "needs_background": "light"
          }
        }
      ]
    },
    {
      "cell_type": "code",
      "metadata": {
        "id": "IpPXykn1lsLD"
      },
      "source": [
        ""
      ],
      "execution_count": null,
      "outputs": []
    }
  ]
}